{
 "cells": [
  {
   "cell_type": "code",
   "execution_count": 5,
   "metadata": {},
   "outputs": [],
   "source": [
    "import json"
   ]
  },
  {
   "cell_type": "code",
   "execution_count": 8,
   "metadata": {},
   "outputs": [],
   "source": [
    "sample_file = '../../DATA/ihart.ms2/genotypes/samples.json'\n",
    "ped_file = '../../DATA/ihart.ms2/ihart.ped'\n",
    "out_file = '../../DATA/ihart.ms2/ihart.lcl.ped'"
   ]
  },
  {
   "cell_type": "code",
   "execution_count": 9,
   "metadata": {},
   "outputs": [
    {
     "name": "stdout",
     "output_type": "stream",
     "text": [
      "19\n"
     ]
    }
   ],
   "source": [
    "with open(sample_file, 'r') as f:\n",
    "    samples = json.load(f)\n",
    "    \n",
    "lcl_samples = [x for x in samples if x.endswith('_LCL') and x[:-4] in samples]\n",
    "wb_samples = [x[:-4] for x in lcl_samples]\n",
    "print(len(lcl_samples))"
   ]
  },
  {
   "cell_type": "code",
   "execution_count": 10,
   "metadata": {},
   "outputs": [
    {
     "name": "stdout",
     "output_type": "stream",
     "text": [
      "19\n"
     ]
    }
   ],
   "source": [
    "sample_to_family = dict()\n",
    "with open(ped_file, 'r') as f:\n",
    "    for line in f:\n",
    "        pieces = line.strip().split('\\t')\n",
    "        sample_to_family[pieces[1]] = pieces[0]\n",
    "        \n",
    "families_of_interest = set([sample_to_family[x] for x in wb_samples])\n",
    "print(len(families_of_interest))"
   ]
  },
  {
   "cell_type": "code",
   "execution_count": null,
   "metadata": {},
   "outputs": [],
   "source": [
    "with open(ped_file, 'r') as f, open(out_file, 'w+') as outf:\n",
    "    for line in f:\n",
    "        pieces = line.strip().split('\\t')\n",
    "        lcl_pieces = [x for x in pieces]\n",
    "        wb_pieces = [x for x in pieces]\n",
    "        if pieces[0] in families_of_interest:\n",
    "            lcl_pieces[0] = lcl_pieces + '_LCL'\n",
    "            wb_pieces[0] = wb_pieces + '_WB'\n",
    "        \n",
    "            if pieces[1] in lcl_samples:\n",
    "                outf.write('\\t'.join(lcl_pieces) + '\\n')\n",
    "            elif pieces[1] in wb_samples:\n",
    "                outf.write('\\t'.join(wb_pieces) + '\\n')\n",
    "            else:\n",
    "                outf.write('\\t'.join(lcl_pieces) + '\\n')\n",
    "                outf.write('\\t'.join(wb_pieces) + '\\n')\n"
   ]
  }
 ],
 "metadata": {
  "kernelspec": {
   "display_name": "Python 3",
   "language": "python",
   "name": "python3"
  },
  "language_info": {
   "codemirror_mode": {
    "name": "ipython",
    "version": 3
   },
   "file_extension": ".py",
   "mimetype": "text/x-python",
   "name": "python",
   "nbconvert_exporter": "python",
   "pygments_lexer": "ipython3",
   "version": "3.7.3"
  }
 },
 "nbformat": 4,
 "nbformat_minor": 2
}
